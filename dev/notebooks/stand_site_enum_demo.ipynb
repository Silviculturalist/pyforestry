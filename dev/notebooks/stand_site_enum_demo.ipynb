{
 "cells": [
  {
   "cell_type": "markdown",
   "id": "fda4c721",
   "metadata": {},
   "source": [
    "# Stand metrics and site enums"
   ]
  },
  {
   "cell_type": "markdown",
   "id": "c3f9b0c5",
   "metadata": {},
   "source": [
    "This notebook shows how to work with circular plots, site enums, and site index models."
   ]
  },
  {
   "cell_type": "code",
   "execution_count": 1,
   "id": "d16d739a",
   "metadata": {
    "execution": {
     "iopub.execute_input": "2025-10-10T14:27:37.944489Z",
     "iopub.status.busy": "2025-10-10T14:27:37.944260Z",
     "iopub.status.idle": "2025-10-10T14:27:38.987256Z",
     "shell.execute_reply": "2025-10-10T14:27:38.986600Z"
    }
   },
   "outputs": [
    {
     "data": {
      "text/plain": [
       "(12.75, 254.64790894703253)"
      ]
     },
     "execution_count": 1,
     "metadata": {},
     "output_type": "execute_result"
    }
   ],
   "source": [
    "from pyforestry.base.helpers import CircularPlot, Tree, Stand, parse_tree_species\n",
    "\n",
    "plot1 = CircularPlot(\n",
    "    id=1,\n",
    "    radius_m=5.0,\n",
    "    trees=[\n",
    "        Tree(species=parse_tree_species(\"picea abies\"), diameter_cm=20),\n",
    "        Tree(species=parse_tree_species(\"pinus sylvestris\"), diameter_cm=25),\n",
    "    ],\n",
    ")\n",
    "plot2 = CircularPlot(\n",
    "    id=2,\n",
    "    radius_m=5.0,\n",
    "    trees=[\n",
    "        Tree(species=parse_tree_species(\"picea abies\"), diameter_cm=30),\n",
    "    ],\n",
    ")\n",
    "stand = Stand(plots=[plot1, plot2])\n",
    "stand.BasalArea.TOTAL.value, stand.Stems.TOTAL.value"
   ]
  },
  {
   "cell_type": "markdown",
   "id": "9ce79891",
   "metadata": {},
   "source": [
    "Site enums help provide structured parameters."
   ]
  },
  {
   "cell_type": "code",
   "execution_count": 2,
   "id": "46f3f709",
   "metadata": {
    "execution": {
     "iopub.execute_input": "2025-10-10T14:27:38.989295Z",
     "iopub.status.busy": "2025-10-10T14:27:38.989013Z",
     "iopub.status.idle": "2025-10-10T14:27:39.002676Z",
     "shell.execute_reply": "2025-10-10T14:27:39.002018Z"
    }
   },
   "outputs": [
    {
     "data": {
      "text/plain": [
       "(1, 16)"
      ]
     },
     "execution_count": 2,
     "metadata": {},
     "output_type": "execute_result"
    }
   ],
   "source": [
    "from pyforestry.base.helpers import enum_code\n",
    "from pyforestry.sweden.site.enums import Sweden\n",
    "\n",
    "enum_code(Sweden.SoilMoistureEnum.DRY), enum_code(Sweden.County.UPPSALA)"
   ]
  },
  {
   "cell_type": "code",
   "execution_count": 3,
   "id": "ebe4ef42",
   "metadata": {
    "execution": {
     "iopub.execute_input": "2025-10-10T14:27:39.004495Z",
     "iopub.status.busy": "2025-10-10T14:27:39.004302Z",
     "iopub.status.idle": "2025-10-10T14:27:39.014024Z",
     "shell.execute_reply": "2025-10-10T14:27:39.013400Z"
    }
   },
   "outputs": [
    {
     "data": {
      "text/plain": [
       "26.672815668837686"
      ]
     },
     "execution_count": 3,
     "metadata": {},
     "output_type": "execute_result"
    }
   ],
   "source": [
    "from pyforestry.sweden.siteindex.sis.hagglund_lundmark_1979 import Hagglund_Lundmark_1979_SIS\n",
    "\n",
    "sis = Hagglund_Lundmark_1979_SIS(\n",
    "    species=\"Picea abies\",\n",
    "    latitude=60,\n",
    "    altitude=100,\n",
    "    soil_moisture=Sweden.SoilMoistureEnum.MESIC,\n",
    "    ground_layer=Sweden.BottomLayer.FRESH_MOSS,\n",
    "    vegetation=Sweden.FieldLayer.BILBERRY,\n",
    "    soil_texture=Sweden.SoilTextureTill.SANDY,\n",
    "    climate_code=Sweden.ClimateZone.K1,\n",
    "    lateral_water=Sweden.SoilWater.SELDOM_NEVER,\n",
    "    soil_depth=Sweden.SoilDepth.DEEP,\n",
    "    incline_percent=5,\n",
    "    aspect=0,\n",
    "    nfi_adjustments=True,\n",
    "    dlan=Sweden.County.UPPSALA,\n",
    "    peat=False,\n",
    "    gotland=False,\n",
    "    coast=False,\n",
    "    limes_norrlandicus=False,\n",
    ")\n",
    "float(sis)"
   ]
  },
  {
   "cell_type": "markdown",
   "id": "371dc2e4",
   "metadata": {},
   "source": [
    "Geographic utilities and climate calculations."
   ]
  },
  {
   "cell_type": "code",
   "execution_count": 4,
   "id": "bf113048",
   "metadata": {
    "execution": {
     "iopub.execute_input": "2025-10-10T14:27:39.016097Z",
     "iopub.status.busy": "2025-10-10T14:27:39.015910Z",
     "iopub.status.idle": "2025-10-10T14:27:39.157342Z",
     "shell.execute_reply": "2025-10-10T14:27:39.156676Z"
    }
   },
   "outputs": [],
   "source": [
    "from pyforestry.sweden.geo import Moren_Perttu_radiation_1994, RetrieveGeoCode\n",
    "\n",
    "RetrieveGeoCode.getDistanceToCoast(14.784528, 56.892405)\n",
    "RetrieveGeoCode.getClimateCode(14.784528, 56.892405)"
   ]
  },
  {
   "cell_type": "code",
   "execution_count": 5,
   "id": "52f63767",
   "metadata": {
    "execution": {
     "iopub.execute_input": "2025-10-10T14:27:39.159376Z",
     "iopub.status.busy": "2025-10-10T14:27:39.159102Z",
     "iopub.status.idle": "2025-10-10T14:27:39.164437Z",
     "shell.execute_reply": "2025-10-10T14:27:39.163742Z"
    }
   },
   "outputs": [
    {
     "data": {
      "text/plain": [
       "(1216.3800000000003, 1266.3800000000003)"
      ]
     },
     "execution_count": 5,
     "metadata": {},
     "output_type": "execute_result"
    }
   ],
   "source": [
    "calc = Moren_Perttu_radiation_1994(latitude=60, altitude=100, july_avg_temp=17, jan_avg_temp=-8)\n",
    "(\n",
    "    calc.calculate_temperature_sum_1000m(threshold_temperature=5),\n",
    "    calc.get_corrected_temperature_sum(threshold_temperature=5),\n",
    ")"
   ]
  }
 ],
 "metadata": {
  "kernelspec": {
   "display_name": "Python 3",
   "language": "python",
   "name": "python3"
  },
  "language_info": {
   "codemirror_mode": {
    "name": "ipython",
    "version": 3
   },
   "file_extension": ".py",
   "mimetype": "text/x-python",
   "name": "python",
   "nbconvert_exporter": "python",
   "pygments_lexer": "ipython3",
   "version": "3.12.11"
  }
 },
 "nbformat": 4,
 "nbformat_minor": 5
}
