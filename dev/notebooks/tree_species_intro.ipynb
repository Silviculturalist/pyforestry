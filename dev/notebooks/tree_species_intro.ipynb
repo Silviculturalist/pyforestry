{
 "cells": [
  {
   "cell_type": "markdown",
   "id": "7f08bcc7",
   "metadata": {},
   "source": [
    "# Tree species basics"
   ]
  },
  {
   "cell_type": "markdown",
   "id": "d4dd5f8e",
   "metadata": {},
   "source": [
    "This notebook shows how to retrieve species using `TreeSpecies` and inspect the underlying `TreeName` objects."
   ]
  },
  {
   "cell_type": "code",
   "execution_count": 1,
   "id": "3670a82d",
   "metadata": {
    "execution": {
     "iopub.execute_input": "2025-10-10T14:27:46.703932Z",
     "iopub.status.busy": "2025-10-10T14:27:46.703700Z",
     "iopub.status.idle": "2025-10-10T14:27:47.771886Z",
     "shell.execute_reply": "2025-10-10T14:27:47.771278Z"
    }
   },
   "outputs": [],
   "source": [
    "from pyforestry.base.helpers.tree_species import (\n",
    "    ALNUS_GLUTINOSA,\n",
    "    ALNUS_INCANA,\n",
    "    TreeName,\n",
    "    TreeSpecies,\n",
    "    parse_tree_species,\n",
    ")"
   ]
  },
  {
   "cell_type": "markdown",
   "id": "983749f9",
   "metadata": {},
   "source": [
    "`TreeSpecies` exposes region-specific namespaces. Each attribute is a `TreeName` instance."
   ]
  },
  {
   "cell_type": "code",
   "execution_count": 2,
   "id": "a757c95d",
   "metadata": {
    "execution": {
     "iopub.execute_input": "2025-10-10T14:27:47.774052Z",
     "iopub.status.busy": "2025-10-10T14:27:47.773721Z",
     "iopub.status.idle": "2025-10-10T14:27:47.779494Z",
     "shell.execute_reply": "2025-10-10T14:27:47.779045Z"
    }
   },
   "outputs": [
    {
     "data": {
      "text/plain": [
       "TreeName(genus=TreeGenus(name='Pinus', code='PINUS'), species_name='sylvestris', code='PSYL')"
      ]
     },
     "execution_count": 2,
     "metadata": {},
     "output_type": "execute_result"
    }
   ],
   "source": [
    "TreeSpecies.Sweden.pinus_sylvestris"
   ]
  },
  {
   "cell_type": "code",
   "execution_count": 3,
   "id": "545b8976",
   "metadata": {
    "execution": {
     "iopub.execute_input": "2025-10-10T14:27:47.781269Z",
     "iopub.status.busy": "2025-10-10T14:27:47.781095Z",
     "iopub.status.idle": "2025-10-10T14:27:47.784243Z",
     "shell.execute_reply": "2025-10-10T14:27:47.783709Z"
    }
   },
   "outputs": [
    {
     "name": "stdout",
     "output_type": "stream",
     "text": [
      "pinus\n",
      "[TreeName(genus=TreeGenus(name='Pinus', code='PINUS'), species_name='sylvestris', code='PSYL'), TreeName(genus=TreeGenus(name='Pinus', code='PINUS'), species_name='contorta', code='PCON'), TreeName(genus=TreeGenus(name='Pinus', code='PINUS'), species_name='mugo', code='PMUG')]\n"
     ]
    }
   ],
   "source": [
    "print(TreeSpecies.Sweden.pinus.full_name)\n",
    "print(list(TreeSpecies.Sweden.pinus))"
   ]
  },
  {
   "cell_type": "markdown",
   "id": "372ff760",
   "metadata": {},
   "source": [
    "Strings can be converted to `TreeName` objects using `parse_tree_species()`."
   ]
  },
  {
   "cell_type": "code",
   "execution_count": 4,
   "id": "fbec2bee",
   "metadata": {
    "execution": {
     "iopub.execute_input": "2025-10-10T14:27:47.785891Z",
     "iopub.status.busy": "2025-10-10T14:27:47.785692Z",
     "iopub.status.idle": "2025-10-10T14:27:47.789181Z",
     "shell.execute_reply": "2025-10-10T14:27:47.788564Z"
    }
   },
   "outputs": [
    {
     "name": "stdout",
     "output_type": "stream",
     "text": [
      "TreeName(genus=TreeGenus(name='Pinus', code='PINUS'), species_name='sylvestris', code='PSYL')\n",
      "True\n"
     ]
    }
   ],
   "source": [
    "print(parse_tree_species(\"Pinus sylvestris\"))\n",
    "print(parse_tree_species(\"pInus sylvestris\") == TreeSpecies.Sweden.pinus_sylvestris)"
   ]
  },
  {
   "cell_type": "markdown",
   "id": "a56719c1",
   "metadata": {},
   "source": [
    "`TreeName` holds genus and species information and can be compared directly. `TreeSpecies` simply provides organized access to these objects."
   ]
  },
  {
   "cell_type": "code",
   "execution_count": 5,
   "id": "c3e7ec3f",
   "metadata": {
    "execution": {
     "iopub.execute_input": "2025-10-10T14:27:47.791029Z",
     "iopub.status.busy": "2025-10-10T14:27:47.790860Z",
     "iopub.status.idle": "2025-10-10T14:27:47.794780Z",
     "shell.execute_reply": "2025-10-10T14:27:47.794180Z"
    }
   },
   "outputs": [
    {
     "data": {
      "text/plain": [
       "pyforestry.base.helpers.tree_species.RegionalTreeSpecies"
      ]
     },
     "execution_count": 5,
     "metadata": {},
     "output_type": "execute_result"
    }
   ],
   "source": [
    "isinstance(TreeSpecies.Sweden.pinus_sylvestris, TreeName)\n",
    "type(TreeSpecies.Sweden)"
   ]
  },
  {
   "cell_type": "markdown",
   "id": "0039e0ee",
   "metadata": {},
   "source": [
    "Genus groups act like containers. We can check membership just like in the tests."
   ]
  },
  {
   "cell_type": "code",
   "execution_count": 6,
   "id": "7e3347c1",
   "metadata": {
    "execution": {
     "iopub.execute_input": "2025-10-10T14:27:47.796605Z",
     "iopub.status.busy": "2025-10-10T14:27:47.796438Z",
     "iopub.status.idle": "2025-10-10T14:27:47.800630Z",
     "shell.execute_reply": "2025-10-10T14:27:47.800051Z"
    }
   },
   "outputs": [
    {
     "data": {
      "text/plain": [
       "True"
      ]
     },
     "execution_count": 6,
     "metadata": {},
     "output_type": "execute_result"
    }
   ],
   "source": [
    "ALNUS_GLUTINOSA in TreeSpecies.Sweden.alnus\n",
    "ALNUS_INCANA in TreeSpecies.Sweden.alnus"
   ]
  }
 ],
 "metadata": {
  "kernelspec": {
   "display_name": "Python 3",
   "language": "python",
   "name": "python3"
  },
  "language_info": {
   "codemirror_mode": {
    "name": "ipython",
    "version": 3
   },
   "file_extension": ".py",
   "mimetype": "text/x-python",
   "name": "python",
   "nbconvert_exporter": "python",
   "pygments_lexer": "ipython3",
   "version": "3.12.11"
  }
 },
 "nbformat": 4,
 "nbformat_minor": 5
}
